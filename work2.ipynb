{
  "nbformat": 4,
  "nbformat_minor": 0,
  "metadata": {
    "colab": {
      "provenance": [],
      "authorship_tag": "ABX9TyO6tGZUrnz3LSY5O+GtJClR",
      "include_colab_link": true
    },
    "kernelspec": {
      "name": "python3",
      "display_name": "Python 3"
    },
    "language_info": {
      "name": "python"
    }
  },
  "cells": [
    {
      "cell_type": "markdown",
      "metadata": {
        "id": "view-in-github",
        "colab_type": "text"
      },
      "source": [
        "<a href=\"https://colab.research.google.com/github/IWM-S/Prog2kakushin/blob/main/work2.ipynb\" target=\"_parent\"><img src=\"https://colab.research.google.com/assets/colab-badge.svg\" alt=\"Open In Colab\"/></a>"
      ]
    },
    {
      "cell_type": "markdown",
      "source": [
        "# 行列加算とOpenCV(addWeighted)、2種類のアルファブレンドの比較\n",
        "\n",
        "上のコード：ランダムに10x10のドット絵を2つ生成して、行列の加算をしてできた画像と、OpenCVのaddWeightedで生成した画像とのピクセルの一致度を割合で表示します。addWeightedのα値とγ値は編集可能です。\n",
        "\n",
        "下のコード：上のコードにおいて、2つの画像のα値0から1(等分割51個)、γ値-2から2(等分割201個)、合計51x51x201=522801種類のaddWeightedを実行したものの中から、行列の加算をしたものと最も一致度が高い組み合わせを探し出します。基本的にα値は1、γ値は0、一致度は50%前後になります。"
      ],
      "metadata": {
        "id": "RngWOF2a56e4"
      }
    },
    {
      "cell_type": "code",
      "source": [
        "import numpy as np\n",
        "import cv2,sys\n",
        "from google.colab.patches import cv2_imshow\n",
        "\n",
        "\n",
        "#2つの画像と行列加算した画像を生成\n",
        "img1,img2 = np.random.randint(0, 255, (10, 10, 3)), np.random.randint(0, 255, (10, 10, 3))\n",
        "\n",
        "img1plus2 = img1*0.5 + img2*0.5\n",
        "#####################################\n",
        "\n",
        "\n",
        "#α値、γ値入力部\n",
        "f1 = input(\"画像1の濃さは？(正の実数)(指定無しの場合0.5になります。)\")\n",
        "if len(f1) == 0:\n",
        "  f1 = 0.5\n",
        "\n",
        "f2 = input(\"画像2の濃さは？(正の実数)(指定無しの場合0.5になります。)\")\n",
        "if len(f2) == 0:\n",
        "  f2 = 0.5\n",
        "\n",
        "gamma = input(\"ガンマ値は？(任意の実数)(指定なしの場合0になります。)\")\n",
        "if len(gamma) == 0:\n",
        "  gamma = 0\n",
        "#####################################\n",
        "\n",
        "\n",
        "#アルファブレンド部\n",
        "blended = cv2.addWeighted(img1, float(f1), img2, float(f2), float(gamma))\n",
        "#####################################\n",
        "\n",
        "\n",
        "#表示のため大きくしています\n",
        "img1PLUS2 = cv2.resize(img1plus2, None, fx=20, fy=20, interpolation=cv2.INTER_NEAREST)\n",
        "Blended = cv2.resize(blended, None, fx=20, fy=20, interpolation=cv2.INTER_NEAREST)\n",
        "#####################################\n",
        "\n",
        "\n",
        "#画像と結果を表示\n",
        "print()\n",
        "print(\"行列加算\")\n",
        "cv2_imshow(img1PLUS2)\n",
        "print()\n",
        "print(\"アルファブレンド\")\n",
        "cv2_imshow(Blended)\n",
        "\n",
        "count=0\n",
        "\n",
        "print()\n",
        "print(\"行列加算とアルファブレンド(1:2={}:{}、γ={})のとき、一致度は{}%です。\"\n",
        ".format(f1, f2, gamma, np.count_nonzero(img1plus2 == blended) / np.size(img1plus2) *100))\n",
        "#####################################"
      ],
      "metadata": {
        "colab": {
          "base_uri": "https://localhost:8080/",
          "height": 579
        },
        "id": "9KBKRIa4zAcF",
        "outputId": "f2ffd1e6-c017-40c9-b2b8-256fb1836f32"
      },
      "execution_count": 151,
      "outputs": [
        {
          "output_type": "stream",
          "name": "stdout",
          "text": [
            "画像1の濃さは？(正の実数)(指定無しの場合0.5になります。)\n",
            "画像2の濃さは？(正の実数)(指定無しの場合0.5になります。)\n",
            "ガンマ値は？(任意の実数)(指定なしの場合0になります。)\n",
            "\n",
            "行列加算\n"
          ]
        },
        {
          "output_type": "display_data",
          "data": {
            "text/plain": [
              "<PIL.Image.Image image mode=RGB size=200x200 at 0x7F63EB27D250>"
            ],
            "image/png": "[encoded data removed]"
          },
          "metadata": {}
        },
        {
          "output_type": "stream",
          "name": "stdout",
          "text": [
            "\n",
            "アルファブレンド\n"
          ]
        },
        {
          "output_type": "display_data",
          "data": {
            "text/plain": [
              "<PIL.Image.Image image mode=RGB size=200x200 at 0x7F63EB27D580>"
            ],
            "image/png": "[encoded data removed]"
          },
          "metadata": {}
        },
        {
          "output_type": "stream",
          "name": "stdout",
          "text": [
            "\n",
            "行列加算とアルファブレンド(1:2=0.5:0.5、γ=0)のとき、一致度は49.0%です。\n"
          ]
        }
      ]
    },
    {
      "cell_type": "code",
      "execution_count": 155,
      "metadata": {
        "id": "XZWucQXw53mv",
        "colab": {
          "base_uri": "https://localhost:8080/",
          "height": 507
        },
        "outputId": "1997178f-182d-4407-8e37-c4fcf943c83e"
      },
      "outputs": [
        {
          "output_type": "stream",
          "name": "stdout",
          "text": [
            "最大の一致度は、画像1のα値0.5、画像2のα値0.5、γ値0のときで、色の完全一致度は48%です。\n",
            "\n",
            "行列加算\n"
          ]
        },
        {
          "output_type": "display_data",
          "data": {
            "text/plain": [
              "<PIL.Image.Image image mode=RGB size=200x200 at 0x7F63F9BC1C40>"
            ],
            "image/png": "[encoded data removed]"
          },
          "metadata": {}
        },
        {
          "output_type": "stream",
          "name": "stdout",
          "text": [
            "\n",
            "アルファブレンド\n"
          ]
        },
        {
          "output_type": "display_data",
          "data": {
            "text/plain": [
              "<PIL.Image.Image image mode=RGB size=200x200 at 0x7F63EB4F0910>"
            ],
            "image/png": "[encoded data removed]"
          },
          "metadata": {}
        }
      ],
      "source": [
        "import numpy as np\n",
        "import cv2,sys\n",
        "from google.colab.patches import cv2_imshow\n",
        "\n",
        "\n",
        "#2つの画像と行列加算画像を生成\n",
        "img1,img2 = np.random.randint(0, 255, (10, 10, 3)), np.random.randint(0, 255, (10, 10, 3))\n",
        "\n",
        "img1plus2 = img1*0.5 + img2*0.5\n",
        "#####################################\n",
        "\n",
        "\n",
        "#変数と最大値保管庫\n",
        "dec1 = np.linspace(0,1,51)\n",
        "dec2 = np.linspace(0,1,51)\n",
        "dec3 = np.linspace(-2,2,201)\n",
        "maximum_values = [0,0,0,0]\n",
        "#####################################\n",
        "\n",
        "\n",
        "#検索部\n",
        "for i in range(len(dec1)):\n",
        "  for j in range(len(dec2)):\n",
        "    for k in range(len(dec3)):\n",
        "      blended = cv2.addWeighted(img1, dec1[i], img2, dec2[j], dec3[k])\n",
        "      if np.count_nonzero(img1plus2 == blended) / np.size(img1plus2)  > maximum_values[0]:\n",
        "        maximum_values[0] = np.count_nonzero(img1plus2 == blended) / np.size(img1plus2)\n",
        "        maximum_values[1] = dec1[i]\n",
        "        maximum_values[2] = dec2[j]        \n",
        "        maximum_values[3] = dec3[k]\n",
        "#####################################\n",
        "\n",
        "\n",
        "#結果を表示\n",
        "print(\"最大の一致度は、画像1のα値{}、画像2のα値{}、γ値{}のときで、色の完全一致度は{}%です。\"\n",
        ".format(maximum_values[1], maximum_values[2], gamma, int(maximum_values[0]*100)))\n",
        "#####################################\n",
        "\n",
        "\n",
        "#最大の組み合わせで再度アルファブレンド\n",
        "img0 = cv2.addWeighted(img1,maximum_values[1],img2,maximum_values[2],maximum_values[3])\n",
        "#####################################\n",
        "\n",
        "\n",
        "#表示のため拡大\n",
        "img1p2 = cv2.resize(img1plus2, None, fx=20, fy=20, interpolation=cv2.INTER_NEAREST)\n",
        "img0 = cv2.resize(img0, None, fx=20, fy=20, interpolation=cv2.INTER_NEAREST)\n",
        "#####################################\n",
        "\n",
        "\n",
        "#画像表示部\n",
        "print()\n",
        "print(\"行列加算\")\n",
        "cv2_imshow(img1p2)\n",
        "print()\n",
        "print(\"アルファブレンド\")\n",
        "cv2_imshow(img0)\n",
        "#####################################"
      ]
    }
  ]
}