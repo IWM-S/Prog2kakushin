{
  "nbformat": 4,
  "nbformat_minor": 0,
  "metadata": {
    "colab": {
      "provenance": [],
      "authorship_tag": "ABX9TyOzzazBIL+2YqyEYVB+UHDj",
      "include_colab_link": true
    },
    "kernelspec": {
      "name": "python3",
      "display_name": "Python 3"
    },
    "language_info": {
      "name": "python"
    }
  },
  "cells": [
    {
      "cell_type": "markdown",
      "metadata": {
        "id": "view-in-github",
        "colab_type": "text"
      },
      "source": [
        "<a href=\"https://colab.research.google.com/github/IWM-S/Prog2kakushin/blob/main/work1.ipynb\" target=\"_parent\"><img src=\"https://colab.research.google.com/assets/colab-badge.svg\" alt=\"Open In Colab\"/></a>"
      ]
    },
    {
      "cell_type": "markdown",
      "source": [
        "pandas\n",
        "\n",
        "(候補)\n",
        "\n",
        "・国交省などのデータを引っ張って来て最頻値の県などを表示\n",
        "  ヒートマップ？\n",
        "\n",
        "・多機能なデータベースのようなものを作る。長い期間に渡ったデータから目的の要素を取り出す。例えば年月日指定、要素の値が基準値以上以下のみ表示など"
      ],
      "metadata": {
        "id": "fCCUFrrk5oEx"
      }
    },
    {
      "cell_type": "code",
      "source": [],
      "metadata": {
        "id": "6osuhfCE5pxQ"
      },
      "execution_count": null,
      "outputs": []
    }
  ]
}