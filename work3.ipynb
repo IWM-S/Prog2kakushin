{
  "nbformat": 4,
  "nbformat_minor": 0,
  "metadata": {
    "colab": {
      "provenance": [],
      "authorship_tag": "ABX9TyNeG5+cnWZHVOfjEPVC3bIt",
      "include_colab_link": true
    },
    "kernelspec": {
      "name": "python3",
      "display_name": "Python 3"
    },
    "language_info": {
      "name": "python"
    }
  },
  "cells": [
    {
      "cell_type": "markdown",
      "metadata": {
        "id": "view-in-github",
        "colab_type": "text"
      },
      "source": [
        "<a href=\"https://colab.research.google.com/github/IWM-S/Prog2kakushin/blob/main/work3.ipynb\" target=\"_parent\"><img src=\"https://colab.research.google.com/assets/colab-badge.svg\" alt=\"Open In Colab\"/></a>"
      ]
    },
    {
      "cell_type": "markdown",
      "source": [
        "turtle,opencv\n",
        "\n",
        "(候補)\n",
        "\n",
        "・カメを使って企業ロゴのようなものを描画する(著作権回避)(ゴリ押しなし)\n",
        "\n",
        "・行列をランダムに生成して画像にする→重ね合わせと\n",
        "  行列をランダムに生成した和を画像にして違いを検証する\n",
        "\n",
        "・"
      ],
      "metadata": {
        "id": "tmAOXkZ36EmG"
      }
    },
    {
      "cell_type": "code",
      "execution_count": null,
      "metadata": {
        "id": "rTu0c9dj6C49"
      },
      "outputs": [],
      "source": []
    }
  ]
}